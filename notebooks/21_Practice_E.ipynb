{
 "cells": [
  {
   "cell_type": "markdown",
   "metadata": {},
   "source": [
    "### <p style=\"text-align: right;\"> &#9999; Krrish Kishore Kumar</p>\n"
   ]
  },
  {
   "cell_type": "markdown",
   "metadata": {},
   "source": [
    "# 21E - Outliers\n",
    "\n",
    "What are outliers? Talk about this with the person to your left and right. Make sure that you are comfortable with your understanding. If not, do a little research to clarify.\n",
    "\n",
    "Data will often contain outliers. You have to decide if the outlier is caused by a human error, such as a typo, or if it is valid data. Importantly, you need to decide if the outliers will be considered in the analysis.\n",
    "\n",
    "**Think about some of the implications of including non-valid outliers or of excluding valid ones. These can have serious impacts on the accuracy of your results.**\n",
    "\n",
    "\n",
    "**Look back at 21D and your box plots for the 9 wards. Do you think there are any outliers in this datafile on the Flint water? How could you determine if there are outliers? If there are, what do you think could be the cause of any of these outliers?** "
   ]
  },
  {
   "cell_type": "markdown",
   "metadata": {},
   "source": [
    "<font size=+2>&#9999;</font> "
   ]
  },
  {
   "cell_type": "markdown",
   "metadata": {},
   "source": [
    "# Pause at this point and have a discussion on the information below.\n"
   ]
  },
  {
   "cell_type": "markdown",
   "metadata": {},
   "source": [
    "What are some of the challenges with box plots in identifying and understanding outliers?\n",
    "\n",
    "<font size=+2>&#9999;</font> "
   ]
  },
  {
   "cell_type": "markdown",
   "metadata": {},
   "source": [
    "**Go back and look at your boxplots from assignment 21D. Do these show any outliers? How are these boxplots different from one another? How does that affect our perspective of outliers?**\n",
    "Remember, how you analyze the data is as important as the data itself.\n",
    "\n",
    "<font size=+2>&#9999;</font> \n",
    "\n"
   ]
  },
  {
   "cell_type": "markdown",
   "metadata": {},
   "source": [
    "How can we use masks in Pandas to address some of these issues? As you work through this **keep in mind what ward _you think_ the outliers are in**. Think about how this information might help make choices about how to address the water crisis.\n",
    "\n",
    "**Develop masks to test specifically for outliers in the wards. Which test should you use 1,2, or 3 and should you use _ppb_ or _mg/L_? How did you decide? How would you determine what value to use as your mask? Explain your decision process here then write the code to display your outliers _by ward_.**\n",
    "\n",
    "<font size=+2>&#9999;</font> \n",
    "\n"
   ]
  },
  {
   "cell_type": "code",
   "execution_count": 8,
   "metadata": {},
   "outputs": [],
   "source": [
    "# Type your code here\n",
    "\n",
    "\n",
    "\n",
    "# You should check for other outliers in the other sample as well."
   ]
  },
  {
   "cell_type": "markdown",
   "metadata": {},
   "source": [
    "### Which Wards are at risk for lead poisoning? What percentage fall within the Action Zone?\n",
    "#### Run your analysis twice, first with the outliers and second without outliers.\n",
    "\n",
    "**It is important to understand how the outliers impact your data analysis. The best way to do this is to run the analysis twice, one time with the outliers included and a second time without the outliers inlcuded.**\n",
    "\n",
    "**Your goal in the following code is to determine how eliminating the outliers affects how you would use the ward information to address the water issues.**"
   ]
  },
  {
   "cell_type": "code",
   "execution_count": 10,
   "metadata": {},
   "outputs": [],
   "source": [
    "# put your code here!\n",
    "\n"
   ]
  },
  {
   "cell_type": "markdown",
   "metadata": {},
   "source": [
    "**Below is the 2nd analysis using the full dataframe**"
   ]
  },
  {
   "cell_type": "code",
   "execution_count": null,
   "metadata": {},
   "outputs": [],
   "source": [
    "\n"
   ]
  },
  {
   "cell_type": "markdown",
   "metadata": {},
   "source": [
    "## Your results\n",
    "\n",
    "What did you find when you compared the analysis with the outliers and without? \n",
    "What would your recommendations be to the organizations who were tackling the water crisis?\n",
    "Did you find a particular ward or wards that needed more urgent action?"
   ]
  },
  {
   "cell_type": "markdown",
   "metadata": {},
   "source": [
    "<font size=+2>&#9999;</font> "
   ]
  },
  {
   "cell_type": "markdown",
   "metadata": {},
   "source": [
    "# Presenting your analysis\n",
    "\n",
    "Put together a presentation, including graphics, that would help the organizations overseeing the water issues in Flint make a decision on how best to move forward. Your audience will include representatives from the EPA, city and state government, and concerned citizens.\n",
    "\n",
    "You can create the presentation below using markdown cells and code. **Remember to include your recommendations based on your data!**"
   ]
  },
  {
   "cell_type": "markdown",
   "metadata": {},
   "source": [
    "In the space below, type in your key learnings from this activity.\n",
    "\n",
    "<font size=\"+2\">&#9999;</font>"
   ]
  }
 ],
 "metadata": {
  "anaconda-cloud": {},
  "kernelspec": {
   "display_name": "Python 3 (ipykernel)",
   "language": "python",
   "name": "python3"
  },
  "language_info": {
   "codemirror_mode": {
    "name": "ipython",
    "version": 3
   },
   "file_extension": ".py",
   "mimetype": "text/x-python",
   "name": "python",
   "nbconvert_exporter": "python",
   "pygments_lexer": "ipython3",
   "version": "3.10.15"
  }
 },
 "nbformat": 4,
 "nbformat_minor": 4
}
