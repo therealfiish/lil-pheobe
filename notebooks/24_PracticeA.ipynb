{
 "cells": [
  {
   "cell_type": "markdown",
   "metadata": {},
   "source": [
    "### <p style=\"text-align: right;\"> &#9999; Krrish Kishore Kumar</p>"
   ]
  },
  {
   "cell_type": "markdown",
   "metadata": {},
   "source": [
    "# 24A: Regression\n",
    "<br/>\n",
    "<img src=\"https://media.geeksforgeeks.org/wp-content/uploads/20231129130431/11111111.png\" width=500px/>\n",
    "\n",
    "## Goals\n",
    "\n",
    "- Introduce the concept of regression (remember, some classmates haven't covered this in their classes yet)\n",
    "- Calculate linear regression based on the formula.\n",
    "- Understand how linear regression is built into NumPy.\n",
    "\n"
   ]
  },
  {
   "cell_type": "markdown",
   "metadata": {},
   "source": [
    "Regression defined\n",
    "\n",
    "There are correlations between many data where the input directly affects the output. For example, the better the sports team, the more wins they achieve. At the same time, we have all seen a mediocre team make it to the finals through good luck.\n",
    "This lets us know that not all data is perfect. Sometimes there are surprises and or mistakes. At the same time, there is a general trend in the data.\n",
    "\n",
    "You can see these in many areas. For example, the less cloudy the night sky, the more stars can be seen. However, this is affected by other variables too such as light pollution. Light pollution creates \"noise\" in the data. However, it doesn't remove the general trend. As data scientists, we need to recognize the \"noise\" or \"fluctuations\" in the data and determine if they are valid. For example, it is possible the data was entered incorrectly. If the data is valid, we need to consider it, but stay focused on the overall relationship, which in this case is linear.\n",
    "\n",
    "_Simple linear regression_ is a method you can use to find the line-of-best-fit. The line-of-best-fit takes into account the variation in data and provides a smoother function that gives the overall trend without distracting you with all of the \"fluctuations\".\n",
    "\n",
    "In addition to _simple linear regression_, we will also explore _polynomial linear regression_. The key difference is that instead of a line-of-best-fit, we will be looking for a curve-of-best-fit. "
   ]
  },
  {
   "cell_type": "markdown",
   "metadata": {
    "tags": []
   },
   "source": [
    "### Correlation: The relationship between two variables.\n",
    "- Positive correlation where 0<m<=1 (think _slope_)\n",
    "- Negative correlation where -1<=m<0 (think _slope_)\n",
    "- Correlation coefficient is represented by _r_, determines the strength of the linear relationship between two variables\n",
    "\n",
    "### Scatter plots and correlation\n",
    "- Positive correlation (positive r-value) when the points appear to move upwards at a similar rate. Notice that the line-of-best fit has a similar slope in both situations (the _m_). But one is more closely correlated to the actual points on the graph than the other (the r-value).\n",
    "- Negative correlation (negative r-value) when the points appear to move downwards at a similar rate.\n",
    "\n",
    "\n",
    "<img src= \"https://upload.wikimedia.org/wikipedia/commons/8/83/Pearson_Correlation_Coefficient_and_associated_scatterplots.png\" width=450px>"
   ]
  },
  {
   "cell_type": "markdown",
   "metadata": {},
   "source": [
    "### Correlation versus Regression\n",
    "Correlation quantifies the strength of the linear relationship between a pair of variables. It is a single value ranging from -1 to 1.\n",
    "Regression goes a step further and expresses the relationship as an equation, such as the line-of-best-fit when using _linear regression_. It allows us to graph the relationship and estimate where future values might lie on the graph.\n",
    "\n",
    "<img src=\"https://upload.wikimedia.org/wikipedia/commons/thumb/b/b0/Linear_least_squares_example2.svg/330px-Linear_least_squares_example2.svg.png\" width =200px>\n",
    "\"In linear regression, the observations <font color=red><b> (red) </b></font> are assumed to be the result of random deviations <font color=green><b> (green) </b></font> from an underlying relationship <font color=blue><b> (blue) </b></font> between a dependent variable (y) and an independent variable (x).\" (wikipedia)"
   ]
  },
  {
   "cell_type": "markdown",
   "metadata": {},
   "source": [
    "----\n",
    "## The Regression calculations _explained_"
   ]
  },
  {
   "cell_type": "markdown",
   "metadata": {},
   "source": [
    "The first step is to understand how basic linear regression calculations are done. First, we need to understand the following:\n",
    "\n",
    "- A coordinate is represented by:  $(x_i,y_i)$\n",
    "\n",
    "- The sums, $\\sum_i$, means that you sum up the expression that follows, similar to a loop for _i_ values.\n",
    "\n",
    "- $N$ is the number of coordinates.\n",
    "\n",
    "- The mean (average) of the x-values represented as:  $\\bar{x} =\\frac{1}{N}\\sum_i x_i$\n",
    "\n",
    "- The mean (average) of the y-values represented as:  $\\bar{y} = \\frac{1}{N}\\sum_i y_i$\n",
    "\n",
    "- Which then get substituted into: $ m = \\frac{\\sum_i [x_i y_i ]- N\\bar{x}\\bar{y}}{\\sum_i [x_i^2] - N\\bar{x}^2}$ and $ b = \\bar{y} - m\\bar{x}$.  \n",
    "    Note: $ \\sum_i $ only applies to what is in the brackets.\n",
    "\n",
    "- Those results become the values in $\\hat y = \\hat m x + \\hat b$.    The _hat_ `^` indicates that the values are estimates.\n"
   ]
  },
  {
   "cell_type": "markdown",
   "metadata": {},
   "source": [
    "\n",
    "#### Watch this video"
   ]
  },
  {
   "cell_type": "code",
   "execution_count": 1,
   "metadata": {},
   "outputs": [
    {
     "data": {
      "image/jpeg": "[encoded data removed]",
      "text/html": [
       "\n",
       "        <iframe\n",
       "            width=\"640\"\n",
       "            height=\"360\"\n",
       "            src=\"https://www.youtube.com/embed/1YUHyBTztOc\"\n",
       "            frameborder=\"0\"\n",
       "            allowfullscreen\n",
       "            \n",
       "        ></iframe>\n",
       "        "
      ],
      "text/plain": [
       "<IPython.lib.display.YouTubeVideo at 0x76a6cc435220>"
      ]
     },
     "execution_count": 1,
     "metadata": {},
     "output_type": "execute_result"
    }
   ],
   "source": [
    "from IPython.display import YouTubeVideo  \n",
    "YouTubeVideo(\"1YUHyBTztOc\",width=640,height=360)"
   ]
  },
  {
   "cell_type": "markdown",
   "metadata": {},
   "source": [
    "----\n",
    "\n",
    "We have covered multiple ways to generate random values. In this activity you will see two specific ones:\n",
    "\n",
    "1. np.random.normal()\n",
    "2. np.linspace"
   ]
  },
  {
   "cell_type": "markdown",
   "metadata": {},
   "source": [
    "____\n",
    "The code below models simple linear regression using the ordinary least squares (OLS). **Comment the code to explain what each line is doing as it relates to the calculations.** "
   ]
  },
  {
   "cell_type": "code",
   "execution_count": 2,
   "metadata": {},
   "outputs": [],
   "source": [
    "# Remember to import the needed modules \n",
    "import numpy as np\n",
    "import matplotlib.pyplot as plt\n",
    "%matplotlib inline"
   ]
  },
  {
   "cell_type": "code",
   "execution_count": 3,
   "metadata": {},
   "outputs": [
    {
     "data": {
      "image/png": "[encoded data removed]",
      "text/plain": [
       "<Figure size 640x480 with 1 Axes>"
      ]
     },
     "metadata": {},
     "output_type": "display_data"
    }
   ],
   "source": [
    "# Create an array of 16 equally spaced values from 0 to pi/2\n",
    "x = np.linspace(0, np.pi/2, 16)\n",
    "\n",
    "# Generate y values based on sine of x, plus random noise\n",
    "# np.sin(x) calculates the sine of each value in x\n",
    "# 0.1*np.random.randn(16) adds small random noise from normal distribution\n",
    "y = np.sin(x) + 0.1*np.random.randn(16)\n",
    "\n",
    "# Create a scatter plot of the data points\n",
    "plt.scatter(x, y, label = \"data\")\n",
    "\n",
    "# Add a legend to the plot\n",
    "plt.legend()\n",
    "\n",
    "# Display the plot\n",
    "plt.show()"
   ]
  },
  {
   "cell_type": "markdown",
   "metadata": {},
   "source": [
    "Look at the plot above. Notice that the relationship between $y$ and $x$ is roughly linear. This means we can use the ordinary least squares (OLS) approach to fit a line to the data. Below is a function that performs OLS.\n",
    "\n",
    "**In the function below, comment the code where specified with a # and fill in the equation for calculating $b$, the y-intercept** Here are the calculations from above for you to refer back to.\n",
    "\n",
    "$ m = \\frac{\\sum_i [x_i y_i ]- N\\bar{x}\\bar{y}}{\\sum_i [x_i^2] - N\\bar{x}^2}$ and $ b = \\bar{y} - m\\bar{x}$.............. Note: $ \\sum_i $ only applies to what is in the brackets."
   ]
  },
  {
   "cell_type": "code",
   "execution_count": 4,
   "metadata": {},
   "outputs": [],
   "source": [
    "# This function is used to calculate ordinary least squares regression parameters given some data\n",
    "\n",
    "def lin_reg_mb(x, y):\n",
    "    \n",
    "    # Calculate the mean of x values\n",
    "    mean_x = np.mean(x)\n",
    "    \n",
    "    # Calculate the mean of y values\n",
    "    mean_y = np.mean(y)\n",
    "    \n",
    "    # Get the number of data points\n",
    "    N = len(x)\n",
    "    \n",
    "    # Calculate the sum of x*y products\n",
    "    xy_sum = np.sum(x*y)\n",
    "    \n",
    "    # Calculate the sum of squared x values\n",
    "    x2_sum = np.sum(x**2)\n",
    "    \n",
    "    \n",
    "    # Calculate the slope (m) using the OLS formula\n",
    "    # This implements the formula: m = (Σ(x_i*y_i) - N*x̄*ȳ) / (Σ(x_i^2) - N*x̄^2)\n",
    "    m = (xy_sum - N * mean_x * mean_y)/(x2_sum - N*mean_x**2)\n",
    "\n",
    "    # Calculate the y-intercept using the formula: b = ȳ - m*x̄\n",
    "    # This is derived from solving y = mx + b for b\n",
    "    b = mean_y - m * mean_x\n",
    "    \n",
    "    # Return the calculated slope (m) and y-intercept (b)\n",
    "    # These parameters define our line of best fit\n",
    "    return m, b\n"
   ]
  },
  {
   "cell_type": "markdown",
   "metadata": {},
   "source": [
    "The function provided below (no changes to this function are needed) takes in our $x$ data and our estimated slope and intercept values and predict expected $y$ values. This is the function to use for the line-of-best-fit regression model."
   ]
  },
  {
   "cell_type": "code",
   "execution_count": 5,
   "metadata": {},
   "outputs": [],
   "source": [
    "''' The function below takes in the m (slope or x-coefficient), b (the y-intercept), and\n",
    "the independent value, x, to calculate the expected the dependent value, y. Note, the m & b come \n",
    "from the function above. '''\n",
    "\n",
    "def lin_regression(x, m, b):\n",
    "    \n",
    "    expected_y = m*x + b\n",
    "    \n",
    "    return expected_y"
   ]
  },
  {
   "cell_type": "markdown",
   "metadata": {},
   "source": [
    "In the cell below, we call our finished `lin_reg_mb` function to calculate our parameters and then feed these into our `lin_regression` function to calculate our expected $y$ values.\n",
    "\n",
    "**Comment the code below where specified!**"
   ]
  },
  {
   "cell_type": "code",
   "execution_count": 6,
   "metadata": {},
   "outputs": [
    {
     "data": {
      "image/png": "[encoded data removed]",
      "text/plain": [
       "<Figure size 640x480 with 1 Axes>"
      ]
     },
     "metadata": {},
     "output_type": "display_data"
    }
   ],
   "source": [
    "# Calculate the slope (m) and y-intercept (b) using our linear regression function\n",
    "# These parameters will define our line of best fit\n",
    "m_expected, b_expected = lin_reg_mb(x, y)\n",
    "\n",
    "# Generate the predicted y-values using our linear regression model\n",
    "# This applies the equation y = mx + b to each x value to get the corresponding y on our line of best fit\n",
    "expected_y = lin_regression(x, m_expected, b_expected)\n",
    "\n",
    "# Create a visualization of our data and regression line\n",
    "# Scatter plot shows the original data points\n",
    "plt.scatter(x, y, label = \"data\")\n",
    "# Line plot shows our regression line (line of best fit)\n",
    "plt.plot(x, expected_y, color = \"orange\", label = \"fit\")\n",
    "\n",
    "# Add a legend to identify the data points and regression line\n",
    "plt.legend()\n",
    "# Label the x and y axes\n",
    "plt.xlabel('x')\n",
    "plt.ylabel('y')\n",
    "# Display the plot showing both data points and regression line\n",
    "plt.show()"
   ]
  },
  {
   "cell_type": "markdown",
   "metadata": {},
   "source": [
    "**Print out your calculated m, slope, and b, y-intercept, values below. How do these values relate to $x$ and $y$? What does the y-intercept explain?**\n",
    "\n",
    "<font size=+2> &#9999;&nbsp;<font> The y-intercept (b ≈ 0.1745) represents the value of y when x = 0. It's the starting point of our regression line on the y-axis. In this context, it provides the baseline value of y before any influence of x is considered."
   ]
  },
  {
   "cell_type": "code",
   "execution_count": 10,
   "metadata": {},
   "outputs": [
    {
     "name": "stdout",
     "output_type": "stream",
     "text": [
      "Slope (m): 0.5936\n",
      "Y-intercept (b): 0.1745\n"
     ]
    }
   ],
   "source": [
    "# Type your code here\n",
    "# Print the calculated slope (m) and y-intercept (b)\n",
    "print(f\"Slope (m): {m_expected:.4f}\")\n",
    "print(f\"Y-intercept (b): {b_expected:.4f}\")"
   ]
  },
  {
   "cell_type": "markdown",
   "metadata": {},
   "source": [
    "Describe your key learnings from this lesson.\n",
    "\n",
    "<font size=+2> &#9999;&nbsp;<font>\n",
    "    \n",
    "- **Regression** helps identify trends in noisy data\n",
    "- **Linear regression** finds the line-of-best-fit (y = mx + b) using ordinary least squares\n",
    "- **Correlation** measures relationship strength (-1 to 1) while regression provides a predictive equation\n",
    "- In our model:\n",
    "    - Slope (m ≈ 0.5936): rate of change in y per unit x\n",
    "    - Y-intercept (b ≈ 0.1745): baseline value when x = 0\n",
    "- Successfully implemented regression in Python using NumPy and Matplotlib    "
   ]
  }
 ],
 "metadata": {
  "kernelspec": {
   "display_name": "Python 3",
   "language": "python",
   "name": "python3"
  },
  "language_info": {
   "codemirror_mode": {
    "name": "ipython",
    "version": 3
   },
   "file_extension": ".py",
   "mimetype": "text/x-python",
   "name": "python",
   "nbconvert_exporter": "python",
   "pygments_lexer": "ipython3",
   "version": "3.12.1"
  }
 },
 "nbformat": 4,
 "nbformat_minor": 4
}
