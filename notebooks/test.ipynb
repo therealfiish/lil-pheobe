{
 "cells": [
  {
   "cell_type": "markdown",
   "metadata": {},
   "source": [
    "### <p style=\"text-align: right;\"> &#9999; Type your name here </p>"
   ]
  },
  {
   "cell_type": "markdown",
   "metadata": {},
   "source": [
    "----\n",
    "## 24B: Regression using NumPy"
   ]
  },
  {
   "cell_type": "markdown",
   "metadata": {
    "tags": []
   },
   "source": [
    "NumPy has pre-built functions to calculate a linear regression model based on the data we provide.\n",
    "\n",
    "- `np.polyfit` You can read more here: (https://numpy.org/doc/stable/reference/generated/numpy.polyfit.html)\n",
    "- `np.poly1d` You can read more here: (https://docs.scipy.org/doc/numpy-1.15.1/reference/generated/numpy.poly1d.html)\n",
    "\n",
    "Fitting regression models with your own written functions can be a pain when there is a lot of data or you have a complicated function. NumPy makes this process very fast and efficient. Let's watch the video below for a quick tutorial! Note the similarities between `np.polyfit`/`np.poly1d` and our `lin_reg_mb`/`lin_regression` functions above."
   ]
  },
  {
   "cell_type": "code",
   "execution_count": 4,
   "metadata": {},
   "outputs": [],
   "source": [
    "# Import the needed modules\n",
    "\n",
    "import numpy as np\n",
    "import matplotlib.pyplot as plt"
   ]
  },
  {
   "cell_type": "code",
   "execution_count": 5,
   "metadata": {},
   "outputs": [],
   "source": [
    "# Create an array of x-values\n",
    "\n",
    "# what does this command do, specifically, what does 'seed'do?\n",
    "#\n",
    "np.random.seed(1) \n",
    "\n",
    "\n",
    "# What does this command do?\n",
    "# \n",
    "x = np.arange(0,25,1)"
   ]
  },
  {
   "cell_type": "markdown",
   "metadata": {},
   "source": [
    "**Try creating another random list where you identify the seed value. Do it with a person next to you. Do you get the same _random_ numbers?**\n",
    "\n",
    "<font size=+2> &#9999; <font>  "
   ]
  },
  {
   "cell_type": "code",
   "execution_count": 7,
   "metadata": {},
   "outputs": [],
   "source": [
    "# Type your code here to generate random numbers with a seed value\n",
    "\n"
   ]
  },
  {
   "cell_type": "code",
   "execution_count": 8,
   "metadata": {},
   "outputs": [],
   "source": [
    "# What does the command below do? How does it help in what we are trying to learn?\n",
    "\n",
    "#\n",
    "y = x + np.random.normal(1,3,25)"
   ]
  },
  {
   "cell_type": "code",
   "execution_count": 9,
   "metadata": {},
   "outputs": [
    {
     "data": {
      "image/png": "[encoded data removed]",
      "text/plain": [
       "<Figure size 640x480 with 1 Axes>"
      ]
     },
     "metadata": {},
     "output_type": "display_data"
    }
   ],
   "source": [
    "plt.scatter(x,y)\n",
    "plt.show()"
   ]
  },
  {
   "cell_type": "markdown",
   "metadata": {},
   "source": [
    "### Regression with non-linear relationships"
   ]
  },
  {
   "cell_type": "code",
   "execution_count": 11,
   "metadata": {
    "tags": []
   },
   "outputs": [],
   "source": [
    "# What is the line of code doing? Input your own comment to explain.\n",
    "\n",
    "data_in = np.polyfit(x,y,1)"
   ]
  },
  {
   "cell_type": "code",
   "execution_count": 12,
   "metadata": {},
   "outputs": [
    {
     "data": {
      "text/plain": [
       "array([1.06460877, 0.18650504])"
      ]
     },
     "execution_count": 12,
     "metadata": {},
     "output_type": "execute_result"
    }
   ],
   "source": [
    "# What is the line of code doing? Input your own comment to explain.\n",
    "\n",
    "data_in"
   ]
  },
  {
   "cell_type": "code",
   "execution_count": 13,
   "metadata": {},
   "outputs": [],
   "source": [
    "# What are the lines of code doing? Input your own comments to explain.\n",
    "\n",
    "m_exp = data_in[0]\n",
    "b_exp = data_in[1]"
   ]
  },
  {
   "cell_type": "code",
   "execution_count": 14,
   "metadata": {},
   "outputs": [],
   "source": [
    "# write the line of best fit based on the values from np.polyfit and name it 'output_exp'.\n",
    "\n"
   ]
  },
  {
   "cell_type": "code",
   "execution_count": 15,
   "metadata": {},
   "outputs": [
    {
     "ename": "NameError",
     "evalue": "name 'output_exp' is not defined",
     "output_type": "error",
     "traceback": [
      "\u001b[0;31m---------------------------------------------------------------------------\u001b[0m",
      "\u001b[0;31mNameError\u001b[0m                                 Traceback (most recent call last)",
      "Cell \u001b[0;32mIn[15], line 3\u001b[0m\n\u001b[1;32m      1\u001b[0m \u001b[38;5;66;03m# What is the line of code doing? Input your own comment to explain.\u001b[39;00m\n\u001b[0;32m----> 3\u001b[0m \u001b[43moutput_exp\u001b[49m\n",
      "\u001b[0;31mNameError\u001b[0m: name 'output_exp' is not defined"
     ]
    }
   ],
   "source": [
    "# What is the line of code doing? Input your own comment to explain.\n",
    "\n",
    "output_exp"
   ]
  },
  {
   "cell_type": "code",
   "execution_count": null,
   "metadata": {},
   "outputs": [],
   "source": [
    "# What are the lines of code doing? Input your own comments to explain.\n",
    "\n",
    "plt.scatter(x,y)\n",
    "plt.plot(x,output_exp)\n",
    "plt.show()"
   ]
  },
  {
   "cell_type": "code",
   "execution_count": null,
   "metadata": {},
   "outputs": [],
   "source": [
    "# What is the line of code doing? Input your own comment to explain. What does the \"2\" mean?\n",
    "\n",
    "inputs_quad = np.polyfit(x,y,2)"
   ]
  },
  {
   "cell_type": "code",
   "execution_count": null,
   "metadata": {},
   "outputs": [],
   "source": [
    "# What is the line of code doing? Input your own comment to explain.\n",
    "\n",
    "inputs_quad"
   ]
  },
  {
   "cell_type": "code",
   "execution_count": null,
   "metadata": {},
   "outputs": [],
   "source": [
    "# What is the line of code doing? Input your own comment to explain.\n",
    "\n",
    "output_quad_function = np.poly1d(inputs_quad)"
   ]
  },
  {
   "cell_type": "code",
   "execution_count": null,
   "metadata": {},
   "outputs": [],
   "source": [
    "# What is the line of code doing? Input your own comment to explain.\n",
    "\n",
    "output_quad_exp = output_quad_function(x)"
   ]
  },
  {
   "cell_type": "code",
   "execution_count": null,
   "metadata": {},
   "outputs": [],
   "source": [
    "# What is the line of code doing? Input your own comment to explain.\n",
    "\n",
    "output_quad_exp"
   ]
  },
  {
   "cell_type": "code",
   "execution_count": null,
   "metadata": {},
   "outputs": [],
   "source": [
    "# # What is the line of code doing? Input your own comment to explain.\n",
    "\n",
    "plt.scatter(x,y, color = 'brown', label = 'data')\n",
    "plt.plot(x,output_quad_exp, color = \"pink\", label = 'expected', linewidth = 3 )\n",
    "plt.legend()\n",
    "plt.show()"
   ]
  },
  {
   "cell_type": "code",
   "execution_count": null,
   "metadata": {},
   "outputs": [],
   "source": [
    "# What if we try to set it to a function to the 6th power? Write your code here and comment it.\n",
    "\n"
   ]
  },
  {
   "cell_type": "code",
   "execution_count": null,
   "metadata": {},
   "outputs": [],
   "source": [
    "# Name the polyfit output from the prior cell to 'poly_array'.\n",
    "\n"
   ]
  },
  {
   "cell_type": "code",
   "execution_count": null,
   "metadata": {},
   "outputs": [],
   "source": [
    "# What is the line of code doing? Input your own comment to explain.\n",
    "\n",
    "y_poly_exp = poly_array(x)"
   ]
  },
  {
   "cell_type": "code",
   "execution_count": null,
   "metadata": {},
   "outputs": [],
   "source": [
    "# Does the curve fit the data or is it \"over fit\"?\n",
    "\n",
    "plt.scatter(x,y)\n",
    "plt.plot(x,y_poly_exp)\n",
    "plt.show()"
   ]
  },
  {
   "cell_type": "code",
   "execution_count": null,
   "metadata": {},
   "outputs": [],
   "source": []
  },
  {
   "cell_type": "markdown",
   "metadata": {
    "tags": []
   },
   "source": [
    "____\n",
    "Some new data is created in the cell below. Use the $x2$ and $y2$ data generated below to practice finding the curve of best fit. Remember to use `np.polyfit` and `np.poly1d` like above.\n",
    "\n",
    "Add in comments to explain what is happening in each of the lines of code below.\n",
    "\n",
    "<font size=+2>&#9999; <font>"
   ]
  },
  {
   "cell_type": "code",
   "execution_count": null,
   "metadata": {
    "tags": []
   },
   "outputs": [],
   "source": [
    "\n",
    "\n",
    "x2 = np.linspace(0,np.pi/2,40)\n",
    "\n",
    "y2 = np.cos(x2) + 0.1*np.random.randn(40)\n",
    "\n",
    "plt.scatter(x2, y2, color='green', label = \"data\")\n",
    "\n",
    "\n",
    "\n",
    "\n"
   ]
  },
  {
   "cell_type": "markdown",
   "metadata": {},
   "source": [
    "Use `np.polyfit` to find find the line-of-best-fit and to determine the quadratic-curve-of-best-fit. Refer to the prior exercises to review the code necessary. Make sure to graph both separately, each time with the scatter plot of data."
   ]
  },
  {
   "cell_type": "code",
   "execution_count": null,
   "metadata": {
    "tags": []
   },
   "outputs": [],
   "source": []
  },
  {
   "cell_type": "markdown",
   "metadata": {},
   "source": [
    "After you completed the two regressions and diagrams above, change the order of the polynomial fit (dimensions) when you call  `np.polyfit()`. How high can the degree of the polynomial be until you feel like you are overfitting the data? Why do you think the data as overfit at that particular degree?\n"
   ]
  },
  {
   "cell_type": "markdown",
   "metadata": {},
   "source": [
    "<font size=+2> &#9999;&nbsp;<font>\n"
   ]
  },
  {
   "cell_type": "markdown",
   "metadata": {},
   "source": [
    "Describe your key learnings from this lesson.\n",
    "\n",
    "<font size=+2> &#9999;&nbsp;<font>\n",
    "    \n",
    "    "
   ]
  },
  {
   "cell_type": "code",
   "execution_count": null,
   "metadata": {},
   "outputs": [],
   "source": []
  }
 ],
 "metadata": {
  "kernelspec": {
   "display_name": "Python [conda env:base] *",
   "language": "python",
   "name": "conda-base-py"
  },
  "language_info": {
   "codemirror_mode": {
    "name": "ipython",
    "version": 3
   },
   "file_extension": ".py",
   "mimetype": "text/x-python",
   "name": "python",
   "nbconvert_exporter": "python",
   "pygments_lexer": "ipython3",
   "version": "3.10.15"
  }
 },
 "nbformat": 4,
 "nbformat_minor": 4
}
