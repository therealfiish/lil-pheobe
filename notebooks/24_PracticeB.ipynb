{
 "cells": [
  {
   "cell_type": "markdown",
   "metadata": {},
   "source": [
    "### <p style=\"text-align: right;\"> &#9999; Krrish Kishore Kumar </p>"
   ]
  },
  {
   "cell_type": "markdown",
   "metadata": {},
   "source": [
    "----\n",
    "## 24B: Regression using NumPy"
   ]
  },
  {
   "cell_type": "markdown",
   "metadata": {
    "tags": []
   },
   "source": [
    "NumPy has pre-built functions to calculate a linear regression model based on the data we provide.\n",
    "\n",
    "- `np.polyfit` You can read more here: (https://docs.scipy.org/doc/numpy-1.15.0/reference/generated/numpy.polyfit.html])\n",
    "- `np.poly1d` You can read more here: (https://docs.scipy.org/doc/numpy-1.15.1/reference/generated/numpy.poly1d.html)\n",
    "\n",
    "Fitting regression models with your own written functions can be a pain when there is a lot of data or you have a complicated function. NumPy makes this process very fast and efficient. Let's watch the video below for a quick tutorial! Note the similarities between `np.polyfit`/`np.poly1d` and our `lin_reg_mb`/`lin_regression` functions above."
   ]
  },
  {
   "cell_type": "code",
   "execution_count": 1,
   "metadata": {},
   "outputs": [],
   "source": [
    "# Import the needed modules\n",
    "\n",
    "import numpy as np\n",
    "import matplotlib.pyplot as plt\n"
   ]
  },
  {
   "cell_type": "code",
   "execution_count": 8,
   "metadata": {},
   "outputs": [
    {
     "data": {
      "text/plain": [
       "array([ 0,  4,  8, 12, 16, 20, 24])"
      ]
     },
     "execution_count": 8,
     "metadata": {},
     "output_type": "execute_result"
    }
   ],
   "source": [
    "# Create an array of x-values\n",
    "\n",
    "# what does this command do, specifically, what does 'seed'do?\n",
    "# this command sets the seed for the random number generator to a fixed value, ensuring that the random numbers generated are reproducible.\n",
    "np.random.seed(1) \n",
    "\n",
    "\n",
    "# What does this command do?\n",
    "# this command generates an array of 25 random numbers from a uniform distribution over [0, 1) and then scales them to the range [0, 25).\n",
    "x = np.arange(0,25,4)\n",
    "x"
   ]
  },
  {
   "cell_type": "markdown",
   "metadata": {},
   "source": [
    "**Try creating another random list where you identify the seed value. Do it with a person next to you. Do you get the same _random_ numbers?**\n",
    "\n",
    "<font size=+2> &#9999; <font> "
   ]
  },
  {
   "cell_type": "code",
   "execution_count": 3,
   "metadata": {},
   "outputs": [],
   "source": [
    "# Type your code here to generate random numbers with a seed value\n",
    "\n"
   ]
  },
  {
   "cell_type": "code",
   "execution_count": null,
   "metadata": {},
   "outputs": [],
   "source": [
    "# What does the command below do? How does it help in what we are trying to learn?\n",
    "\n",
    "#\n",
    "y = x + np.random.normal(1,3,25)"
   ]
  },
  {
   "cell_type": "code",
   "execution_count": null,
   "metadata": {},
   "outputs": [],
   "source": [
    "plt.scatter(x,y)\n",
    "plt.show()"
   ]
  },
  {
   "cell_type": "markdown",
   "metadata": {},
   "source": [
    "# <font color=magenta> HERE </font>\n",
    "\n",
    "### Regression with non-linear relationships"
   ]
  },
  {
   "cell_type": "code",
   "execution_count": 13,
   "metadata": {
    "tags": []
   },
   "outputs": [],
   "source": [
    "# Linear regression using np.polyfit with 1 dimension\n",
    "\n",
    "data_in = np.polyfit(x,y,1) # 1 dimensional -> linear"
   ]
  },
  {
   "cell_type": "code",
   "execution_count": 14,
   "metadata": {},
   "outputs": [
    {
     "data": {
      "text/plain": [
       "array([1.06460877, 0.18650504])"
      ]
     },
     "execution_count": 14,
     "metadata": {},
     "output_type": "execute_result"
    }
   ],
   "source": [
    "data_in # (slope, y-intercept) of the line/curve(with more dimensions) of best fit"
   ]
  },
  {
   "cell_type": "code",
   "execution_count": 15,
   "metadata": {},
   "outputs": [],
   "source": [
    "# unpack the values from data_in\n",
    "m_exp = data_in[0] # the slope\n",
    "b_exp = data_in[1] # the y-intercept"
   ]
  },
  {
   "cell_type": "code",
   "execution_count": 16,
   "metadata": {},
   "outputs": [],
   "source": [
    "# write the line of best fit based on the values from np.polyfit\n",
    "output_exp = m_exp * x + b_exp"
   ]
  },
  {
   "cell_type": "code",
   "execution_count": 17,
   "metadata": {},
   "outputs": [
    {
     "data": {
      "text/plain": [
       "array([ 0.18650504,  1.25111382,  2.31572259,  3.38033136,  4.44494014,\n",
       "        5.50954891,  6.57415769,  7.63876646,  8.70337524,  9.76798401,\n",
       "       10.83259279, 11.89720156, 12.96181034, 14.02641911, 15.09102789,\n",
       "       16.15563666, 17.22024544, 18.28485421, 19.34946299, 20.41407176,\n",
       "       21.47868054, 22.54328931, 23.60789809, 24.67250686, 25.73711563])"
      ]
     },
     "execution_count": 17,
     "metadata": {},
     "output_type": "execute_result"
    }
   ],
   "source": [
    "output_exp # the expected y-values based on the given x-values"
   ]
  },
  {
   "cell_type": "code",
   "execution_count": 18,
   "metadata": {},
   "outputs": [
    {
     "data": {
      "image/png": "[encoded data removed]",
      "text/plain": [
       "<Figure size 432x288 with 1 Axes>"
      ]
     },
     "metadata": {
      "needs_background": "light"
     },
     "output_type": "display_data"
    }
   ],
   "source": [
    "plt.scatter(x,y) # actual\n",
    "plt.plot(x,output_exp) # line of best fit\n",
    "plt.show()"
   ]
  },
  {
   "cell_type": "code",
   "execution_count": 19,
   "metadata": {},
   "outputs": [],
   "source": [
    "# We can also fit the data to a quadratric equation by changing the dimension value to '2'\n",
    "inputs_quad = np.polyfit(x,y,2)"
   ]
  },
  {
   "cell_type": "code",
   "execution_count": 20,
   "metadata": {},
   "outputs": [
    {
     "data": {
      "text/plain": [
       "array([0.01852498, 0.62000915, 1.89080361])"
      ]
     },
     "execution_count": 20,
     "metadata": {},
     "output_type": "execute_result"
    }
   ],
   "source": [
    "inputs_quad # calculates the a, b, and c"
   ]
  },
  {
   "cell_type": "code",
   "execution_count": 21,
   "metadata": {},
   "outputs": [],
   "source": [
    "output_quad_function = np.poly1d(inputs_quad) # creates the polynomial based on the multi-dimensional inputs"
   ]
  },
  {
   "cell_type": "code",
   "execution_count": 22,
   "metadata": {},
   "outputs": [],
   "source": [
    "output_quad_exp = output_quad_function(x) # y-output values based on x-input values"
   ]
  },
  {
   "cell_type": "code",
   "execution_count": 23,
   "metadata": {},
   "outputs": [
    {
     "data": {
      "text/plain": [
       "array([ 1.89080361,  2.52933774,  3.20492184,  3.91755591,  4.66723995,\n",
       "        5.45397396,  6.27775794,  7.13859188,  8.0364758 ,  8.97140968,\n",
       "        9.94339354, 10.95242736, 11.99851115, 13.08164491, 14.20182864,\n",
       "       15.35906233, 16.553346  , 17.78467963, 19.05306324, 20.35849681,\n",
       "       21.70098035, 23.08051386, 24.49709734, 25.95073078, 27.4414142 ])"
      ]
     },
     "execution_count": 23,
     "metadata": {},
     "output_type": "execute_result"
    }
   ],
   "source": [
    "output_quad_exp"
   ]
  },
  {
   "cell_type": "code",
   "execution_count": 50,
   "metadata": {},
   "outputs": [
    {
     "data": {
      "image/png": "[encoded data removed]",
      "text/plain": [
       "<Figure size 432x288 with 1 Axes>"
      ]
     },
     "metadata": {
      "needs_background": "light"
     },
     "output_type": "display_data"
    }
   ],
   "source": [
    "# The result is a slightly curved regression line\n",
    "plt.scatter(x,y, color = 'brown', label = 'data')\n",
    "plt.plot(x,output_quad_exp, color = \"pink\", label = 'expected', linewidth = 3 )\n",
    "plt.legend()\n",
    "plt.show()"
   ]
  },
  {
   "cell_type": "code",
   "execution_count": 25,
   "metadata": {},
   "outputs": [
    {
     "data": {
      "text/plain": [
       "array([ 6.29710395e-06, -5.33159896e-04,  1.73770720e-02, -2.69988758e-01,\n",
       "        2.00505059e+00, -5.13516457e+00,  5.11160965e+00])"
      ]
     },
     "execution_count": 25,
     "metadata": {},
     "output_type": "execute_result"
    }
   ],
   "source": [
    "# What if we try to set it to a function to the 6th power?\n",
    "multi_poly_output = np.polyfit(x,y,6) # same concept except now presumnig it is x^6\n",
    "multi_poly_output"
   ]
  },
  {
   "cell_type": "code",
   "execution_count": 26,
   "metadata": {},
   "outputs": [],
   "source": [
    "poly_array = np.poly1d(multi_poly_output)"
   ]
  },
  {
   "cell_type": "code",
   "execution_count": 27,
   "metadata": {},
   "outputs": [],
   "source": [
    "y_poly_exp = poly_array(x)"
   ]
  },
  {
   "cell_type": "code",
   "execution_count": 28,
   "metadata": {},
   "outputs": [
    {
     "data": {
      "image/png": "[encoded data removed]",
      "text/plain": [
       "<Figure size 432x288 with 1 Axes>"
      ]
     },
     "metadata": {
      "needs_background": "light"
     },
     "output_type": "display_data"
    }
   ],
   "source": [
    "# An example of 'over fitting the data'. The curve does not really fit the data.\n",
    "plt.scatter(x,y)\n",
    "plt.plot(x,y_poly_exp)\n",
    "plt.show()"
   ]
  },
  {
   "cell_type": "code",
   "execution_count": null,
   "metadata": {},
   "outputs": [],
   "source": []
  },
  {
   "cell_type": "markdown",
   "metadata": {
    "tags": []
   },
   "source": [
    "____\n",
    "Some new data is created in the cell below. Use the $x2$ and $y2$ data generated below to practice finding the curve of best fit. Remember to use `np.polyfit` and `np.poly1d` like above.\n",
    "\n",
    "Add in comments to explain what is happening in each of the lines of code below.\n",
    "\n",
    "<font size=+2>&#9999; <font>"
   ]
  },
  {
   "cell_type": "code",
   "execution_count": 29,
   "metadata": {},
   "outputs": [
    {
     "data": {
      "image/png": "[encoded data removed]",
      "text/plain": [
       "<Figure size 432x288 with 1 Axes>"
      ]
     },
     "metadata": {
      "needs_background": "light"
     },
     "output_type": "display_data"
    }
   ],
   "source": [
    "# use np.polyfit to get the parameters for our polynomial regression\n",
    "poly_parameters = np.polyfit(x, y, 3)\n",
    "\n",
    "# uncomment this code and pass in the parameters array to np.poly1d to create a regression function\n",
    "my_poly_function = np.poly1d(poly_parameters)\n",
    "\n",
    "# initialize our predicted y values from the my_poly_function created using np.poly1d\n",
    "expected_y_poly = my_poly_function(x)\n",
    "\n",
    "# plot our data against our fitted function\n",
    "plt.scatter(x, y, label = \"data\")\n",
    "plt.plot(x, expected_y_poly, color = \"orange\", label = \"fit\")\n",
    "\n",
    "plt.legend()\n",
    "plt.xlabel('x')\n",
    "plt.ylabel('y')\n",
    "plt.show()"
   ]
  },
  {
   "cell_type": "code",
   "execution_count": 38,
   "metadata": {
    "tags": []
   },
   "outputs": [
    {
     "name": "stdout",
     "output_type": "stream",
     "text": [
      "[ 0.06621564 -0.73951563  2.36095136 -3.07197469  1.27849334 -0.38442638\n",
      "  1.03497675]\n"
     ]
    },
    {
     "data": {
      "image/png": "[encoded data removed]",
      "text/plain": [
       "<Figure size 432x288 with 1 Axes>"
      ]
     },
     "metadata": {
      "needs_background": "light"
     },
     "output_type": "display_data"
    }
   ],
   "source": [
    "# x = np.random.seed(50)\n",
    "# x2 = np.arange(0,25,1)\n",
    "# # y2 = math.cos(x2) + np.random.normal(1,4,25)\n",
    "# y2 = np.sin(x) + 0.1*np.random.randn(25)\n",
    "# plt.scatter(x2, y2)\n",
    "\n",
    "x2 = np.linspace(0,np.pi/2,40)\n",
    "# create some y data using cos(x) -- +- 0.1* random value 0-1...we add some \"randomness\" to the data using np.random.randn(16)\n",
    "y2 = np.cos(x2) + 0.1*np.random.randn(40)\n",
    "# np.x2_y2 = np.array(x2,y2) ### POSSIBLY DELETE ROW!!!! Cannot do this but need to name the array!!\n",
    "# print(x2,y2)\n",
    "# plot our data\n",
    "plt.scatter(x2, y2, color='green', label = \"data\")\n",
    "# use np.polyfit to get the parameters for our polynomial regression\n",
    "rand_fit = np.polyfit(x2,y2,6)\n",
    "print(rand_fit)\n",
    "\n",
    "# create regression function\n",
    "rand_fit_function = np.poly1d(rand_fit)\n",
    "\n",
    "\n",
    "# initialize our predicted y values from the rand_fit_function created using np.poly1d\n",
    "expected_fit_y = rand_fit_function(x2)\n",
    "\n",
    "# rand_array = np.polyfit(x2,rand_fit,6) # Error here\n",
    "# rand_array_y = rand_array(x2)\n",
    "plt.plot(x2,expected_fit_y, color=\"magenta\", label = \"expected\")\n",
    "plt.legend()\n",
    "plt.show()\n",
    "\n"
   ]
  },
  {
   "cell_type": "markdown",
   "metadata": {},
   "source": [
    "Use `np.polyfit` to find find the line-of-best-fit and to determine the quadratic-curve-of-best-fit. Refer to the prior exercises to review the code necessary. Make sure to graph both separately, each time with the scatter plot of data."
   ]
  },
  {
   "cell_type": "code",
   "execution_count": null,
   "metadata": {
    "tags": []
   },
   "outputs": [],
   "source": []
  },
  {
   "cell_type": "markdown",
   "metadata": {},
   "source": [
    "After you completed the two regressions and diagrams above, change the order of the polynomial fit (dimensions) when you call  `np.polyfit()`. How high can the degree of the polynomial be until you feel like you are overfitting the data? Why do you think the data as overfit at that particular degree?\n"
   ]
  },
  {
   "cell_type": "markdown",
   "metadata": {},
   "source": [
    "<font size=+2> &#9999;&nbsp;<font>\n"
   ]
  },
  {
   "cell_type": "markdown",
   "metadata": {},
   "source": [
    "Describe your key learnings from this lesson.\n",
    "\n",
    "<font size=+2> &#9999;&nbsp;<font>\n",
    "    \n",
    "    "
   ]
  },
  {
   "cell_type": "code",
   "execution_count": null,
   "metadata": {},
   "outputs": [],
   "source": []
  }
 ],
 "metadata": {
  "kernelspec": {
   "display_name": "Python 3",
   "language": "python",
   "name": "python3"
  },
  "language_info": {
   "codemirror_mode": {
    "name": "ipython",
    "version": 3
   },
   "file_extension": ".py",
   "mimetype": "text/x-python",
   "name": "python",
   "nbconvert_exporter": "python",
   "pygments_lexer": "ipython3",
   "version": "3.12.1"
  }
 },
 "nbformat": 4,
 "nbformat_minor": 4
}
